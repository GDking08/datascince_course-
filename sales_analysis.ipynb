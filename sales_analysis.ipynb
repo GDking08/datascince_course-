{
 "cells": [
  {
   "cell_type": "code",
   "execution_count": 1,
   "id": "024b4427-05e5-44b6-9725-3c594c7d35d8",
   "metadata": {},
   "outputs": [
    {
     "name": "stdout",
     "output_type": "stream",
     "text": [
      "Current path is E:\\data_preprocess\\file\n"
     ]
    }
   ],
   "source": [
    "import os\n",
    "os.chdir(r\"E:\\data_preprocess\\file\")\n",
    "cwd = os.getcwd()\n",
    "print(f\"Current path is {cwd}\")"
   ]
  },
  {
   "cell_type": "code",
   "execution_count": 3,
   "id": "e161489d-f3de-48f5-b01c-c98e8458bba0",
   "metadata": {},
   "outputs": [
    {
     "data": {
      "text/plain": [
       "'\\nStepwise Implementation\\nStep 1:\\nFirst, We need to create a Dataframe of the dataset, and even before that certain libraries have to be imported.\\n'"
      ]
     },
     "execution_count": 3,
     "metadata": {},
     "output_type": "execute_result"
    }
   ],
   "source": [
    "'''\n",
    "Stepwise Implementation\n",
    "Step 1:\n",
    "First, We need to create a Dataframe of the dataset, and even before that certain libraries have to be imported.\n",
    "'''"
   ]
  },
  {
   "cell_type": "code",
   "execution_count": 5,
   "id": "d4907e0b-80a6-41b3-87b7-31505f78f4eb",
   "metadata": {},
   "outputs": [],
   "source": [
    "import numpy as np\n",
    "import pandas as pd\n",
    "import matplotlib.pyplot as plt\n",
    "\n",
    "Order_Details = pd.read_csv('Order_details.csv')"
   ]
  },
  {
   "cell_type": "code",
   "execution_count": null,
   "id": "4c161a5b-b6e0-4b42-b469-62177df76c95",
   "metadata": {},
   "outputs": [],
   "source": [
    "'''Step 2:\n",
    "Create a new column called Time that has the DateTime format after converting the Transaction Date column into it.\n",
    "The DateTime format, which has the pattern YYYY-MM-DD HH:MM:SS, can be customized however you choose. Here we're more interested in obtaining hours,\n",
    "so we can have an Hour column by using an in-built function for the same:'''"
   ]
  },
  {
   "cell_type": "code",
   "execution_count": 6,
   "id": "7884ec0f-f04d-42ad-a1d8-ad88264c502c",
   "metadata": {},
   "outputs": [],
   "source": [
    "# here we have taken Transaction\n",
    "# date column\n",
    "Order_Details['Time'] = pd.to_datetime(Order_Details['Transaction Date'])\n",
    "\n",
    "# After that we extracted hour \n",
    "# from Transaction date column\n",
    "Order_Details['Hour'] = (Order_Details['Time']).dt.hour"
   ]
  },
  {
   "cell_type": "code",
   "execution_count": 7,
   "id": "4d469b77-8c7d-45f4-8b1b-ddfbbe0fd07a",
   "metadata": {},
   "outputs": [
    {
     "data": {
      "text/plain": [
       "'\\'\\nStep 3: \\nWe then require the \"n\" busiest hours. For that, we get the first \"n\" entries in a list containing the occurrence rates of the hours when the transaction took place.\\nTo further simplify the manipulation of the provided data in Python, we may utilize value counts for frequencies and tolist() to convert to list format.\\nWe are also compiling a list of the associated index values.'"
      ]
     },
     "execution_count": 7,
     "metadata": {},
     "output_type": "execute_result"
    }
   ],
   "source": [
    "''''\n",
    "Step 3: \n",
    "We then require the \"n\" busiest hours. For that, we get the first \"n\" entries in a list containing the occurrence rates of the hours when the transaction took place.\n",
    "To further simplify the manipulation of the provided data in Python, we may utilize value counts for frequencies and tolist() to convert to list format.\n",
    "We are also compiling a list of the associated index values.'''"
   ]
  },
  {
   "cell_type": "code",
   "execution_count": 8,
   "id": "ffbd5bfc-8c50-47e4-b0b0-23c5f99f1680",
   "metadata": {},
   "outputs": [],
   "source": [
    "# n =24 in this case, can be modified\n",
    "# as per need to see top 'n' busiest hours\n",
    "timemost1 = Order_Details['Hour'].value_counts().index.tolist()[:24] \n",
    "\n",
    "timemost2 = Order_Details['Hour'].value_counts().values.tolist()[:24]"
   ]
  },
  {
   "cell_type": "code",
   "execution_count": 11,
   "id": "c875cc47-43df-422b-adc0-f73174d0f61e",
   "metadata": {},
   "outputs": [
    {
     "name": "stdout",
     "output_type": "stream",
     "text": [
      " Hour Of Day\tCumulative Number of Purchases \n",
      "\n",
      "12\t\t51\n",
      "23\t\t51\n",
      "22\t\t45\n",
      "19\t\t42\n",
      "15\t\t41\n",
      "21\t\t41\n",
      "20\t\t39\n",
      "11\t\t37\n",
      "13\t\t33\n",
      "18\t\t33\n",
      "16\t\t29\n",
      "14\t\t28\n",
      "17\t\t27\n",
      "10\t\t24\n",
      "0\t\t17\n",
      "9\t\t14\n",
      "8\t\t10\n",
      "7\t\t6\n",
      "1\t\t4\n",
      "2\t\t3\n",
      "5\t\t3\n",
      "6\t\t2\n",
      "3\t\t1\n"
     ]
    }
   ],
   "source": [
    "'''\n",
    "Step 4:\n",
    "Finally, we stack the indices (hour) and frequencies together to yield the final result.'''\n",
    "\n",
    "\n",
    "tmost = np.column_stack((timemost1,timemost2))\n",
    "\n",
    "print(\" Hour Of Day\" + \"\\t\" + \"Cumulative Number of Purchases \\n\")\n",
    "print('\\n'.join('\\t\\t'.join(map(str, row)) for row in tmost))"
   ]
  },
  {
   "cell_type": "code",
   "execution_count": 12,
   "id": "f3eca487-4fe4-44f2-94f5-765057433400",
   "metadata": {},
   "outputs": [
    {
     "data": {
      "text/plain": [
       "'\\nStep 5: \\nBefore we can create an appropriate data visualization, \\nwe must make the list slightly more customizable. \\nTo do so, we gather the hourly frequencies and perform the following tasks:\\n'"
      ]
     },
     "execution_count": 12,
     "metadata": {},
     "output_type": "execute_result"
    }
   ],
   "source": [
    "'''\n",
    "Step 5: \n",
    "Before we can create an appropriate data visualization, \n",
    "we must make the list slightly more customizable. \n",
    "To do so, we gather the hourly frequencies and perform the following tasks:\n",
    "'''\n"
   ]
  },
  {
   "cell_type": "code",
   "execution_count": 13,
   "id": "dc7c0b35-88b4-4de9-9a1f-f98ad0952246",
   "metadata": {},
   "outputs": [],
   "source": [
    "timemost = Order_Details['Hour'].value_counts()\n",
    "timemost1 = []\n",
    "\n",
    "for i in range(0,23):\n",
    "    timemost1.append(i)\n",
    "    \n",
    "timemost2 = timemost.sort_index()\n",
    "timemost2.tolist()\n",
    "timemost2 = pd.DataFrame(timemost2)"
   ]
  },
  {
   "cell_type": "code",
   "execution_count": 14,
   "id": "8da1c8c5-a0c9-4309-a806-c286b0bde96c",
   "metadata": {},
   "outputs": [
    {
     "data": {
      "text/plain": [
       "'\\nStep 6: \\nFor data visualization, we will proceed with Matplotlib for better comprehensibility,\\nas it is one of the most convenient and commonly used libraries. But, It is up to you to choose any of the pre-existing libraries like Matplotlib,\\nGgplot, Seaborn, etc., to plot the data graphically.\\n\\nThe commands written below are mainly to ensure that X-axis takes up the values of hours and Y-axis takes up the importance of the number of transactions affected, \\nand also various other aspects of a line chart, including color, font, etc., to name a few.\\n'"
      ]
     },
     "execution_count": 14,
     "metadata": {},
     "output_type": "execute_result"
    }
   ],
   "source": [
    "'''\n",
    "Step 6: \n",
    "For data visualization, we will proceed with Matplotlib for better comprehensibility,\n",
    "as it is one of the most convenient and commonly used libraries. But, It is up to you to choose any of the pre-existing libraries like Matplotlib,\n",
    "Ggplot, Seaborn, etc., to plot the data graphically.\n",
    "\n",
    "The commands written below are mainly to ensure that X-axis takes up the values of hours and Y-axis takes up the importance of the number of transactions affected, \n",
    "and also various other aspects of a line chart, including color, font, etc., to name a few.\n",
    "'''\n"
   ]
  },
  {
   "cell_type": "code",
   "execution_count": null,
   "id": "7cef7452-108c-4a2e-91d9-b3627aa3f162",
   "metadata": {},
   "outputs": [],
   "source": [
    "plt.figure(figsize=(20, 10))\n",
    "\n",
    "plt.title('Sales Happening Per Hour (Spread Throughout The Week)',\n",
    "          fontdict={'fontname': 'monospace', 'fontsize': 30}, y=1.05)\n",
    "\n",
    "plt.ylabel(\"Number Of Purchases Made\", fontsize=18, labelpad=20)\n",
    "plt.xlabel(\"Hour\", fontsize=18, labelpad=20)\n",
    "plt.plot(timemost1, timemost2, color='m')\n",
    "plt.grid()\n",
    "plt.show()"
   ]
  }
 ],
 "metadata": {
  "kernelspec": {
   "display_name": "Python 3 (ipykernel)",
   "language": "python",
   "name": "python3"
  },
  "language_info": {
   "codemirror_mode": {
    "name": "ipython",
    "version": 3
   },
   "file_extension": ".py",
   "mimetype": "text/x-python",
   "name": "python",
   "nbconvert_exporter": "python",
   "pygments_lexer": "ipython3",
   "version": "3.13.5"
  }
 },
 "nbformat": 4,
 "nbformat_minor": 5
}
